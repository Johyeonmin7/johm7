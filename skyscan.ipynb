{
 "cells": [
  {
   "cell_type": "code",
   "execution_count": 1,
   "metadata": {},
   "outputs": [],
   "source": [
    "from bs4 import BeautifulSoup\n",
    "from selenium import webdriver\n",
    "import re\n",
    "import time\n",
    "import pandas as pd\n",
    "import itertools"
   ]
  },
  {
   "cell_type": "code",
   "execution_count": 55,
   "metadata": {},
   "outputs": [],
   "source": [
    "bound = pd.read_excel('C:/Users/johm7/Desktop/bound.xlsx')\n",
    "outbs = bound['odb'].tolist()\n",
    "inbs = bound['idb'].tolist()\n",
    "outb = odbs[0]\n",
    "inb = idbs[0]"
   ]
  },
  {
   "cell_type": "code",
   "execution_count": 56,
   "metadata": {},
   "outputs": [],
   "source": [
    "dest = 'jfk'  # 도착지 입력\n",
    "\n",
    "driver = webdriver.Chrome('C:/Users/johm7/PYTHON/chromedriver.exe')\n",
    "\n",
    "url = 'https://www.skyscanner.co.kr/transport/flights/sela/{}/{}/{}/?adults=1&children=0&adultsv2=1&childrenv2=&infants=0&cabinclass=economy&rtn=1&preferdirects=true&outboundaltsenabled=false&inboundaltsenabled=false&ref=home&airlines=OZ,KE,!multiple'.format(dest, outb, inb)\n",
    "driver.get(url)\n",
    "time.sleep(3)\n",
    "\n",
    "html = driver.page_source\n",
    "soup = BeautifulSoup(html, 'html.parser')\n",
    "\n",
    "ticket = soup.select('div.TicketBody_container__2jxzZ')\n"
   ]
  },
  {
   "cell_type": "code",
   "execution_count": 28,
   "metadata": {},
   "outputs": [],
   "source": [
    "\n",
    "#ticket_time = re.findall(r'4yauk\">(.*?)</', str(ticket))\n",
    "\n",
    "#ticket_bound = re.findall(r'ZqOZK\">(.*?)</', str(ticket))\n"
   ]
  },
  {
   "cell_type": "code",
   "execution_count": 31,
   "metadata": {},
   "outputs": [
    {
     "name": "stdout",
     "output_type": "stream",
     "text": [
      "['\\xa0대한항공 (KAL)', '\\xa0대한항공 (KAL)', '\\xa0대한항공 (KAL)', '\\xa0대한항공 (KAL)', '\\xa0아시아나항공', '\\xa0아시아나항공', '\\xa0아시아나항공', '\\xa0아시아나항공']\n",
      "8\n"
     ]
    }
   ],
   "source": [
    "ticket_carr = re.findall(r'345aT\">(.*?)</', str(ticket))\n",
    "print(ticket_carr)\n",
    "print(len(ticket_carr))"
   ]
  },
  {
   "cell_type": "code",
   "execution_count": 32,
   "metadata": {},
   "outputs": [],
   "source": [
    "ticket_price = soup.select('div > div.Price_mainPriceContainer__1dqsw > span.BpkText_bpk-text__2NHsO.BpkText_bpk-text--lg__3vAKN.BpkText_bpk-text--bold__4yauk')"
   ]
  },
  {
   "cell_type": "code",
   "execution_count": 33,
   "metadata": {},
   "outputs": [
    {
     "name": "stdout",
     "output_type": "stream",
     "text": [
      "['₩1,126,100', '₩1,126,100', '₩1,126,100', '₩1,126,100', '₩1,200,300', '₩1,200,300', '₩1,200,300', '₩1,200,300']\n"
     ]
    }
   ],
   "source": [
    "ticket_price_list = re.findall(r'4yauk\">(.*?)</', str(ticket_price))    \n",
    "print(ticket_price_list[3:])"
   ]
  },
  {
   "cell_type": "code",
   "execution_count": 34,
   "metadata": {},
   "outputs": [],
   "source": [
    "price_list_df = []"
   ]
  },
  {
   "cell_type": "code",
   "execution_count": 35,
   "metadata": {},
   "outputs": [],
   "source": [
    "for i in ticket_price_list[3:]:\n",
    "    price_list = i\n",
    "    price_list_df.append(price_list)"
   ]
  },
  {
   "cell_type": "code",
   "execution_count": 36,
   "metadata": {},
   "outputs": [
    {
     "name": "stdout",
     "output_type": "stream",
     "text": [
      "['₩1,126,100', '₩1,126,100', '₩1,126,100', '₩1,126,100', '₩1,200,300', '₩1,200,300', '₩1,200,300', '₩1,200,300']\n"
     ]
    }
   ],
   "source": [
    "print(price_list_df)"
   ]
  },
  {
   "cell_type": "code",
   "execution_count": 37,
   "metadata": {},
   "outputs": [
    {
     "name": "stdout",
     "output_type": "stream",
     "text": [
      "['\\xa0대한항공 (KAL)', '\\xa0대한항공 (KAL)', '\\xa0대한항공 (KAL)', '\\xa0대한항공 (KAL)', '\\xa0아시아나항공', '\\xa0아시아나항공', '\\xa0아시아나항공', '\\xa0아시아나항공']\n"
     ]
    }
   ],
   "source": [
    "carr_list_df = []\n",
    "for a in ticket_carr:\n",
    "    carr_list = a\n",
    "    carr_list_df.append(carr_list)\n",
    "    \n",
    "print(carr_list_df)"
   ]
  },
  {
   "cell_type": "code",
   "execution_count": 38,
   "metadata": {},
   "outputs": [],
   "source": [
    "carr = pd.Series(ticket_carr)"
   ]
  },
  {
   "cell_type": "code",
   "execution_count": 39,
   "metadata": {},
   "outputs": [
    {
     "name": "stdout",
     "output_type": "stream",
     "text": [
      "0     대한항공 (KAL)\n",
      "1     대한항공 (KAL)\n",
      "2     대한항공 (KAL)\n",
      "3     대한항공 (KAL)\n",
      "4         아시아나항공\n",
      "5         아시아나항공\n",
      "6         아시아나항공\n",
      "7         아시아나항공\n",
      "dtype: object\n"
     ]
    }
   ],
   "source": [
    "print(carr)"
   ]
  },
  {
   "cell_type": "code",
   "execution_count": 40,
   "metadata": {},
   "outputs": [
    {
     "name": "stdout",
     "output_type": "stream",
     "text": [
      "0    ₩1,126,100\n",
      "1    ₩1,126,100\n",
      "2    ₩1,126,100\n",
      "3    ₩1,126,100\n",
      "4    ₩1,200,300\n",
      "5    ₩1,200,300\n",
      "6    ₩1,200,300\n",
      "7    ₩1,200,300\n",
      "dtype: object\n"
     ]
    }
   ],
   "source": [
    "price = pd.Series(ticket_price_list[3:])\n",
    "print(price)"
   ]
  },
  {
   "cell_type": "code",
   "execution_count": 41,
   "metadata": {},
   "outputs": [],
   "source": [
    "data_df = []\n",
    "data_df = pd.concat([carr, price], axis=1)\n",
    "data_df.columns = ['항공사', '가격']"
   ]
  },
  {
   "cell_type": "code",
   "execution_count": 42,
   "metadata": {},
   "outputs": [
    {
     "data": {
      "text/html": [
       "<div>\n",
       "<style scoped>\n",
       "    .dataframe tbody tr th:only-of-type {\n",
       "        vertical-align: middle;\n",
       "    }\n",
       "\n",
       "    .dataframe tbody tr th {\n",
       "        vertical-align: top;\n",
       "    }\n",
       "\n",
       "    .dataframe thead th {\n",
       "        text-align: right;\n",
       "    }\n",
       "</style>\n",
       "<table border=\"1\" class=\"dataframe\">\n",
       "  <thead>\n",
       "    <tr style=\"text-align: right;\">\n",
       "      <th></th>\n",
       "      <th>항공사</th>\n",
       "      <th>가격</th>\n",
       "    </tr>\n",
       "  </thead>\n",
       "  <tbody>\n",
       "    <tr>\n",
       "      <th>0</th>\n",
       "      <td>대한항공 (KAL)</td>\n",
       "      <td>₩1,126,100</td>\n",
       "    </tr>\n",
       "    <tr>\n",
       "      <th>1</th>\n",
       "      <td>대한항공 (KAL)</td>\n",
       "      <td>₩1,126,100</td>\n",
       "    </tr>\n",
       "    <tr>\n",
       "      <th>2</th>\n",
       "      <td>대한항공 (KAL)</td>\n",
       "      <td>₩1,126,100</td>\n",
       "    </tr>\n",
       "    <tr>\n",
       "      <th>3</th>\n",
       "      <td>대한항공 (KAL)</td>\n",
       "      <td>₩1,126,100</td>\n",
       "    </tr>\n",
       "    <tr>\n",
       "      <th>4</th>\n",
       "      <td>아시아나항공</td>\n",
       "      <td>₩1,200,300</td>\n",
       "    </tr>\n",
       "    <tr>\n",
       "      <th>5</th>\n",
       "      <td>아시아나항공</td>\n",
       "      <td>₩1,200,300</td>\n",
       "    </tr>\n",
       "    <tr>\n",
       "      <th>6</th>\n",
       "      <td>아시아나항공</td>\n",
       "      <td>₩1,200,300</td>\n",
       "    </tr>\n",
       "    <tr>\n",
       "      <th>7</th>\n",
       "      <td>아시아나항공</td>\n",
       "      <td>₩1,200,300</td>\n",
       "    </tr>\n",
       "  </tbody>\n",
       "</table>\n",
       "</div>"
      ],
      "text/plain": [
       "           항공사          가격\n",
       "0   대한항공 (KAL)  ₩1,126,100\n",
       "1   대한항공 (KAL)  ₩1,126,100\n",
       "2   대한항공 (KAL)  ₩1,126,100\n",
       "3   대한항공 (KAL)  ₩1,126,100\n",
       "4       아시아나항공  ₩1,200,300\n",
       "5       아시아나항공  ₩1,200,300\n",
       "6       아시아나항공  ₩1,200,300\n",
       "7       아시아나항공  ₩1,200,300"
      ]
     },
     "execution_count": 42,
     "metadata": {},
     "output_type": "execute_result"
    }
   ],
   "source": [
    "data_df"
   ]
  },
  {
   "cell_type": "code",
   "execution_count": 45,
   "metadata": {},
   "outputs": [],
   "source": [
    "data_df.to_excel('C:/Users/johm7/Desktop/sky.xlsx')"
   ]
  },
  {
   "cell_type": "code",
   "execution_count": null,
   "metadata": {},
   "outputs": [],
   "source": []
  }
 ],
 "metadata": {
  "kernelspec": {
   "display_name": "Python 3",
   "language": "python",
   "name": "python3"
  },
  "language_info": {
   "codemirror_mode": {
    "name": "ipython",
    "version": 3
   },
   "file_extension": ".py",
   "mimetype": "text/x-python",
   "name": "python",
   "nbconvert_exporter": "python",
   "pygments_lexer": "ipython3",
   "version": "3.7.6"
  }
 },
 "nbformat": 4,
 "nbformat_minor": 4
}
